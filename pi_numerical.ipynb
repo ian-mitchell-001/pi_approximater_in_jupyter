{
 "cells": [
  {
   "cell_type": "markdown",
   "metadata": {},
   "source": [
    "# NUMERICAL APPROXIMATIONS OF $\\pi$\n",
    "## Ian Mitchell, <Ian.Mitchell_001@gmx.com>\n",
    "\n",
    "---\n",
    "\n",
    "$\\pi$ can be numerically approximated using many different methods. However, in this case, we are using a recursive Monte-carlo-like method in Python to essentially average all the areas of the circle. To compare, the gaussian integral $f(x) \\equiv \\pi = \\big(\\int_{-\\infty}^\\infty e^{-x^2}\\,dx\\big)^2$ is used. It can be noted that $e$ is an irrational number itself. However, $e$ has a few clear definitions such as $e = \\sum_{k = 0}^{\\infty} \\frac{1}{k!}$.\n",
    "\n",
    "It can be noted that the accuracy in which the algorithm measures $\\pi$ at increases signifigantly increases with each decimal place. You can see based on the table of trials below. A total of 10 trials were done for each of the values of $n$.\n",
    "\n",
    "|$n = 10$|$n = 100$|$n = 1000$|$n = 10000$|$n = 100000$|\n",
    "|:-:|:-:|:-:|:---:|:-----:|\n",
    "|2.8|3.12|3.18|3.1104|3.147|\n",
    "|3.2|3.16|3.124|3.146|3.14876|\n",
    "|3.6|3.24|3.168|3.1332|3.15028|\n",
    "|3.6|2.8|3.164|3.1544|3.1456|\n",
    "|3.2|3.12|3.192|3.1496|3.1436|\n",
    "|1.6|3.08|3.056|3.0976|3.135|\n",
    "|2.4|3.08|3.132|3.1508|3.14416|\n",
    "|3.2|3.0|3.08|3.1352|3.14248|\n",
    "|2.8|3.44|3.048|3.1476|3.13816|\n",
    "|2.4|3.16|3.14|3.1372|3.14184|\n",
    "*Table 1: Values of $\\pi$ put through the approximater.* \n",
    "\n",
    "![pi](pi_pictures/approx.png)\n",
    "*Fig 1: $\\pi$ approximated to $n = 100000$ places.*\n",
    "\n",
    "![plots_of_pi](pi_pictures/index.png)\n",
    "*Fig 2: Values of the approximation for $\\pi$.*\n",
    "\n",
    "|$n = 10$|$n = 100$|$n = 1000$|$n = 10000$|$n = 100000$|\n",
    "|:-:|:-:|:-:|:---:|:-----:|\n",
    "|0.58788|0.15492|0.04874|0.60126|0.00442|\n",
    "*Table 2: Standard deviation for each value of $n$.*"
   ]
  },
  {
   "cell_type": "code",
   "execution_count": 1,
   "metadata": {},
   "outputs": [
    {
     "name": "stdout",
     "output_type": "stream",
     "text": [
      "According to sympy, π is equal to 3.14159265358979. However, the circle approximated it as 3.2.\n"
     ]
    },
    {
     "data": {
      "image/png": "[encoded data removed]",
      "text/plain": [
       "<Figure size 432x288 with 1 Axes>"
      ]
     },
     "metadata": {},
     "output_type": "display_data"
    }
   ],
   "source": [
    "### PI APPROXIMATER ### \n",
    "%matplotlib inline\n",
    "\n",
    "import matplotlib.pyplot as plt\n",
    "import numpy as np\n",
    "from numpy import random\n",
    "from sympy import *\n",
    "\n",
    "# Sympy approximation\n",
    "\n",
    "X = symbols('X')\n",
    "\n",
    "f = exp(-(X**2))\n",
    "\n",
    "Pi_1 = N((integrate(f, (X, -oo, oo)))**2)\n",
    "\n",
    "# ----\n",
    "\n",
    "# Numpy approximation\n",
    "## Credit to Andrew Dotson with his video \"How to Estimate Pi Numerically in Python\". <https://www.youtube.com/watch?v=JjfrNc-G-zA>\n",
    "\n",
    "n = input(\"Input the number of points. n = \") # Number of points\n",
    "# print('Input your amount of points. n = ')\n",
    "\n",
    "circlex = []\n",
    "circley = []\n",
    "\n",
    "squarex = []\n",
    "squarey = []\n",
    "\n",
    "i = 1\n",
    "\n",
    "# Approximation for pi\n",
    "while i<=int(n):\n",
    "    x = random.uniform(-1, 1)\n",
    "    y = random.uniform(-1, 1)\n",
    "    if (x**2 + y**2 <= 1):\n",
    "        circlex.append(x)\n",
    "        circley.append(y)\n",
    "    else: \n",
    "        squarex.append(x)\n",
    "        squarey.append(y)\n",
    "    i+=1\n",
    "\n",
    "    \n",
    "Pi_2 = 4*len(circlex)/float(n)\n",
    "\n",
    "plt.plot(circlex,circley,'r.')\n",
    "plt.plot(squarex,squarey,'b.')\n",
    "plt.grid\n",
    "plt.title('Approximation for π')\n",
    "# Plot the approximation\n",
    "\n",
    "# ----\n",
    "\n",
    "print(\"According to sympy, π is equal to {0}. However, the circle approximated it as {1}.\".format(Pi_1, Pi_2))"
   ]
  },
  {
   "cell_type": "code",
   "execution_count": 32,
   "metadata": {},
   "outputs": [
    {
     "name": "stdout",
     "output_type": "stream",
     "text": [
      "|0.58788|0.15492|0.04874|0.60126|0.00442|\n"
     ]
    }
   ],
   "source": [
    "### STANDARD DEVIATION OF THE POINTS FROM THE APPROXIMATER ### \n",
    "\n",
    "import matplotlib.pyplot as plt\n",
    "import numpy as np\n",
    "from numpy import random\n",
    "from sympy import *\n",
    "\n",
    "A = [2.8, 3.2, 3.6, 3.6, 3.2, 1.6, 2.4, 3.2, 2.8, 2.4]\n",
    "B = [3.12, 3.16, 3.24, 2.8, 3.12, 3.08, 3.08, 3.0, 3.44, 3.16]\n",
    "C = [3.18, 3.124, 3.168, 3.164, 3.192, 3.056, 3.132, 3.08, 3.048, 3.14]\n",
    "D = [3.1104, 3.146, 1.1332, 3.1544, 3.1496, 3.0976, 3.1508, 3.1352, 3.1476, 3.1372]\n",
    "E = [3.147, 3.14876, 3.15028, 3.1456, 3.1436, 3.135, 3.14416, 3.14248, 3.13816, 3.14184]\n",
    "\n",
    "dev_A = np.round(np.std(A),5)\n",
    "dev_B = np.round(np.std(B),5)\n",
    "dev_C = np.round(np.std(C),5)\n",
    "dev_D = np.round(np.std(D),5)\n",
    "dev_E = np.round(np.std(E),5)\n",
    "\n",
    "print(\"|{0}|{1}|{2}|{3}|{4}|\".format(dev_A, dev_B, dev_C, dev_D, dev_E))"
   ]
  },
  {
   "cell_type": "code",
   "execution_count": 23,
   "metadata": {},
   "outputs": [
    {
     "data": {
      "image/png": "[encoded data removed]",
      "text/plain": [
       "<Figure size 432x288 with 1 Axes>"
      ]
     },
     "metadata": {},
     "output_type": "display_data"
    }
   ],
   "source": [
    "### PLOT OF THE POINTS FOR THE APPROXIMATER ###\n",
    "%matplotlib inline\n",
    "\n",
    "import matplotlib.pyplot as plt\n",
    "import numpy as np\n",
    "from numpy import random\n",
    "from sympy import *\n",
    "\n",
    "A = [2.8, 3.2, 3.6, 3.6, 3.2, 1.6, 2.4, 3.2, 2.8, 2.4]\n",
    "B = [3.12, 3.16, 3.24, 2.8, 3.12, 3.08, 3.08, 3.0, 3.44, 3.16]\n",
    "C = [3.18, 3.124, 3.168, 3.164, 3.192, 3.056, 3.132, 3.08, 3.048, 3.14]\n",
    "D = [3.1104, 3.146, 1.1332, 3.1544, 3.1496, 3.0976, 3.1508, 3.1352, 3.1476, 3.1372]\n",
    "E = [3.147, 3.14876, 3.15028, 3.1456, 3.1436, 3.135, 3.14416, 3.14248, 3.13816, 3.14184]\n",
    "Number = [1.0, 2.0, 3.0, 4.0, 5.0, 6.0, 7.0, 8.0, 9.0, 10.0]\n",
    "#plt.subplot(2,1,1)\n",
    "plt.plot(Number, A, label=\"$n = 10$\")\n",
    "\n",
    "#plt.subplot(1,2,1)\n",
    "plt.plot(Number, B, label=\"$n = 100$\")\n",
    "\n",
    "#plt.subplot(1,1,1)\n",
    "plt.plot(Number, C, label=\"$n = 1000$\")\n",
    "\n",
    "#plt.subplot(1,1,2)\n",
    "plt.plot(Number, D, label=\"$n = 10000$\")\n",
    "\n",
    "#plt.subplot(2,2,2)\n",
    "plt.plot(Number, E, label=\"$n = 100000$\")\n",
    "#plt.plot[B,'b.']\n",
    "\n",
    "plt.legend(bbox_to_anchor=(0., 1.02, 1., .102), loc=3,\n",
    "           ncol=2, mode=\"expand\", borderaxespad=0.)\n",
    "\n",
    "plt.savefig('pi_pictures/values.png')\n",
    "# Used index.jpg instead since it actually features **THE WHOLE PLOT.**\n",
    "\n",
    "plt.show()"
   ]
  }
 ],
 "metadata": {
  "kernelspec": {
   "display_name": "Python 3",
   "language": "python",
   "name": "python3"
  },
  "language_info": {
   "codemirror_mode": {
    "name": "ipython",
    "version": 3
   },
   "file_extension": ".py",
   "mimetype": "text/x-python",
   "name": "python",
   "nbconvert_exporter": "python",
   "pygments_lexer": "ipython3",
   "version": "3.6.5"
  }
 },
 "nbformat": 4,
 "nbformat_minor": 2
}
